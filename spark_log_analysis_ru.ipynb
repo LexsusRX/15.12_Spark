{
 "cells": [
  {
   "cell_type": "code",
   "execution_count": null,
   "id": "c0207099-572e-4c0c-9204-6eb94d816c44",
   "metadata": {},
   "outputs": [],
   "source": [
    "## 1. Инициализация\n",
    "from pyspark.sql import SparkSession\n",
    "from pyspark import SparkContext, SparkConf\n",
    "from pyspark.sql.functions import col, count, desc, sum, to_date\n",
    "from pyspark.sql.types import StructType, StructField, StringType, IntegerType\n"
   ]
  },
  {
   "cell_type": "code",
   "execution_count": null,
   "id": "5ebff284-78e3-4166-9666-4a3600a73c9a",
   "metadata": {
    "scrolled": true
   },
   "outputs": [],
   "source": [
    "# Создаем SparkSession\n",
    "#spark = SparkSession.builder.appName(\"WebServerLogAnalysis\").getOrCreate()\n",
    "conf = SparkConf().setAppName(\"WebServerLogAnalysis\").setMaster(\"local[*]\")\n",
    "spark = SparkSession.builder.config(conf=conf).getOrCreate()\n"
   ]
  },
  {
   "cell_type": "code",
   "execution_count": null,
   "id": "72b59281-3a28-49bd-a86a-61f34a2a8b23",
   "metadata": {},
   "outputs": [],
   "source": [
    "## 2. Загрузка данных\n",
    "schema = StructType([\n",
    "    StructField(\"ip\", StringType(), True),\n",
    "    StructField(\"timestamp\", StringType(), True),\n",
    "    StructField(\"method\", StringType(), True),\n",
    "    StructField(\"url\", StringType(), True),\n",
    "    StructField(\"response_code\", IntegerType(), True),\n",
    "    StructField(\"response_size\", IntegerType(), True)\n",
    "    ])"
   ]
  },
  {
   "cell_type": "code",
   "execution_count": null,
   "id": "7fd8b91b-6a0c-4e4a-844b-08d96775f923",
   "metadata": {},
   "outputs": [],
   "source": [
    "# Путь к CSV-файлу\n",
    "file_path = \"web_server_logs.csv\""
   ]
  },
  {
   "cell_type": "code",
   "execution_count": null,
   "id": "c8f0ad5a-c1f5-44b6-aa44-06ebc49c349d",
   "metadata": {
    "scrolled": true
   },
   "outputs": [],
   "source": [
    "# Загружаем данные из CSV\n",
    "df = spark.read.csv(file_path, header=True, schema=schema)"
   ]
  },
  {
   "cell_type": "code",
   "execution_count": null,
   "id": "2d516084-e34a-4d59-aba7-5a0dde0e5bff",
   "metadata": {},
   "outputs": [],
   "source": [
    "df.show()\n",
    "df.printSchema()"
   ]
  },
  {
   "cell_type": "code",
   "execution_count": null,
   "id": "08b718b0-31cf-47cb-8e62-ea491e6cb016",
   "metadata": {},
   "outputs": [],
   "source": [
    "# Кэшируем DataFrame, так как он будет использоваться несколько раз\n",
    "df.cache()"
   ]
  },
  {
   "cell_type": "code",
   "execution_count": null,
   "id": "2124066e-a503-490b-a05e-fa12cd4a7a5e",
   "metadata": {},
   "outputs": [],
   "source": [
    "# Показываем пример данных для проверки загрузки\n",
    "print(\"Пример загруженных данных:\")\n",
    "df.show(5, truncate=False)"
   ]
  },
  {
   "cell_type": "code",
   "execution_count": null,
   "id": "2e83d7bb-170a-464f-b1f8-fd99d0dd12e1",
   "metadata": {},
   "outputs": [],
   "source": [
    "# 3. Задачи анализа"
   ]
  },
  {
   "cell_type": "code",
   "execution_count": null,
   "id": "cd221d2c-4752-41cd-a2a0-67e265be2719",
   "metadata": {},
   "outputs": [],
   "source": [
    "# Задача 1: Топ-10 активных IP-адресов\n",
    "#Группируем данные по IP и подсчитываем количество запросов для каждого IP. Отображаем 10 наиболее активных IP."
   ]
  },
  {
   "cell_type": "code",
   "execution_count": null,
   "id": "d3815e59-0a97-48a2-b1dd-4b7abd13808a",
   "metadata": {},
   "outputs": [],
   "source": [
    "print(\"Топ-10 активных IP-адресов:\")\n",
    "top_ips = df.groupBy(\"ip\").agg(count(\"*\").alias(\"request_count\")).orderBy(desc(\"request_count\")).limit(10)\n",
    "top_ips.show(truncate=False)"
   ]
  },
  {
   "cell_type": "code",
   "execution_count": null,
   "id": "d990f228-f839-42a0-9008-5e482c0c9ba9",
   "metadata": {},
   "outputs": [],
   "source": [
    "# Задача 2: Количество запросов по HTTP-методам\n",
    "# Группируем данные по HTTP-методу и подсчитываем количество запросов для каждого метода."
   ]
  },
  {
   "cell_type": "code",
   "execution_count": null,
   "id": "57eecc0e-6262-4a91-803a-01c141507cfd",
   "metadata": {},
   "outputs": [],
   "source": [
    "print(\"Количество запросов по HTTP-методам:\")\n",
    "\n",
    "method_counts = df.groupBy(\"method\").agg(count(\"*\").alias(\"method_count\")).orderBy(desc(\"method_count\"))\n",
    "# Отсортировано по количеству для типичного анализа\\n\",\n",
    "\n",
    "method_counts.show(truncate=False)\n"
   ]
  },
  {
   "cell_type": "code",
   "execution_count": null,
   "id": "eb4a8f06-2ccd-41fa-b549-19a778c96552",
   "metadata": {},
   "outputs": [],
   "source": [
    "# Задача 3: Количество ответов с кодом 404\n",
    "# Фильтруем и подсчитываем количество запросов с кодом ответа 404."
   ]
  },
  {
   "cell_type": "code",
   "execution_count": null,
   "id": "787413d7-1cbb-42d9-bc61-4ea3d05c3f44",
   "metadata": {},
   "outputs": [],
   "source": [
    "count_404 = df.filter(col(\"response_code\") == 404).count()\n",
    "print(f\"\\nКоличество ответов с кодом 404: {count_404}\")"
   ]
  },
  {
   "cell_type": "code",
   "execution_count": null,
   "id": "7f5803c2-669a-4fa6-80b2-1f614c4f32e2",
   "metadata": {},
   "outputs": [],
   "source": [
    "# Задача 4: Общий размер ответов по дням\n",
    "#Группируем данные по дате и суммируем размеры ответов для каждого дня. Сортируем по дате."
   ]
  },
  {
   "cell_type": "code",
   "execution_count": null,
   "id": "72515456-a42b-4df2-ba45-77453d583433",
   "metadata": {},
   "outputs": [],
   "source": [
    "print(\"\\nОбщий размер ответов по дням:\")\n",
    "\n",
    "# Преобразуем строку временной метки в дату.\n",
    "# Временная метка от Faker имеет формат ISO, например, 'YYYY-MM-DDTHH:MM:SS' или 'YYYY-MM-DDTHH:MM:SS.ffffff'\n",
    "# to_date() корректно извлекает часть с датой.\n",
    "df_with_date = df.withColumn(\"date\", to_date(col(\"timestamp\")))\n",
    "daily_response_size = df_with_date.groupBy(\"date\").agg(sum(\"response_size\").alias(\"total_response_size\")).orderBy(\"date\")\n",
    "\n",
    "# Показываем результаты. show(truncate=False) по умолчанию отобразит до 20 строк.\n",
    "# На изображении-примере было 17 строк; это совпадет, если уникальных дат <=20\n",
    "# или если первые 17 показанных дат совпадают с примером.\n",
    "daily_response_size.show(20, truncate=False)"
   ]
  },
  {
   "cell_type": "code",
   "execution_count": null,
   "id": "75d6f4a5-5950-4ce4-82a9-d87c64ce5b23",
   "metadata": {},
   "outputs": [],
   "source": [
    "# 4. Остановка SparkSession\n",
    "#Останавливаем SparkSession для освобождения ресурсов"
   ]
  },
  {
   "cell_type": "code",
   "execution_count": null,
   "id": "4517b23c-fcf6-4892-b263-c5211eb8e3c7",
   "metadata": {},
   "outputs": [],
   "source": [
    "spark.stop()"
   ]
  },
  {
   "cell_type": "code",
   "execution_count": null,
   "id": "3d24aa2f-f468-4285-96b7-f4103fa819b2",
   "metadata": {},
   "outputs": [],
   "source": []
  }
 ],
 "metadata": {
  "kernelspec": {
   "display_name": "Python 3 (ipykernel)",
   "language": "python",
   "name": "python3"
  },
  "language_info": {
   "codemirror_mode": {
    "name": "ipython",
    "version": 3
   },
   "file_extension": ".py",
   "mimetype": "text/x-python",
   "name": "python",
   "nbconvert_exporter": "python",
   "pygments_lexer": "ipython3",
   "version": "3.10.12"
  }
 },
 "nbformat": 4,
 "nbformat_minor": 5
}
