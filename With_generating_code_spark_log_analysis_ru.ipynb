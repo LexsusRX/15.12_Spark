{
 "cells": [
  {
   "cell_type": "code",
   "execution_count": 25,
   "id": "c0207099-572e-4c0c-9204-6eb94d816c44",
   "metadata": {},
   "outputs": [],
   "source": [
    "## 1. Инициализация\n",
    "from pyspark.sql import SparkSession\n",
    "from pyspark import SparkContext, SparkConf\n",
    "from pyspark.sql.functions import col, count, desc, sum, to_date\n",
    "from pyspark.sql.types import StructType, StructField, StringType, IntegerType\n"
   ]
  },
  {
   "cell_type": "code",
   "execution_count": 35,
   "id": "5ebff284-78e3-4166-9666-4a3600a73c9a",
   "metadata": {},
   "outputs": [
    {
     "name": "stderr",
     "output_type": "stream",
     "text": [
      "25/05/16 22:25:40 WARN Utils: Your hostname, oleg-VirtualBox resolves to a loopback address: 127.0.1.1; using 10.0.2.15 instead (on interface enp0s3)\n",
      "25/05/16 22:25:40 WARN Utils: Set SPARK_LOCAL_IP if you need to bind to another address\n",
      "Setting default log level to \"WARN\".\n",
      "To adjust logging level use sc.setLogLevel(newLevel). For SparkR, use setLogLevel(newLevel).\n",
      "25/05/16 22:25:42 WARN NativeCodeLoader: Unable to load native-hadoop library for your platform... using builtin-java classes where applicable\n"
     ]
    }
   ],
   "source": [
    "# Создаем SparkSession\n",
    "#spark = SparkSession.builder.appName(\"WebServerLogAnalysis\").getOrCreate()\n",
    "conf = SparkConf().setAppName(\"WebServerLogAnalysis\").setMaster(\"local[*]\")\n",
    "spark = SparkSession.builder.config(conf=conf).getOrCreate()\n"
   ]
  },
  {
   "cell_type": "code",
   "execution_count": 36,
   "id": "72b59281-3a28-49bd-a86a-61f34a2a8b23",
   "metadata": {},
   "outputs": [],
   "source": [
    "## 2. Загрузка данных\n",
    "schema = StructType([\n",
    "    StructField(\"ip\", StringType(), True),\n",
    "    StructField(\"timestamp\", StringType(), True),\n",
    "    StructField(\"method\", StringType(), True),\n",
    "    StructField(\"url\", StringType(), True),\n",
    "    StructField(\"response_code\", IntegerType(), True),\n",
    "    StructField(\"response_size\", IntegerType(), True)\n",
    "    ])"
   ]
  },
  {
   "cell_type": "code",
   "execution_count": 37,
   "id": "7fd8b91b-6a0c-4e4a-844b-08d96775f923",
   "metadata": {},
   "outputs": [],
   "source": [
    "# Путь к CSV-файлу\n",
    "file_path = \"web_server_logs.csv\""
   ]
  },
  {
   "cell_type": "code",
   "execution_count": 38,
   "id": "c8f0ad5a-c1f5-44b6-aa44-06ebc49c349d",
   "metadata": {
    "scrolled": true
   },
   "outputs": [],
   "source": [
    "# Загружаем данные из CSV\n",
    "df = spark.read.csv(file_path, header=True, schema=schema)"
   ]
  },
  {
   "cell_type": "code",
   "execution_count": 39,
   "id": "2d516084-e34a-4d59-aba7-5a0dde0e5bff",
   "metadata": {},
   "outputs": [
    {
     "name": "stderr",
     "output_type": "stream",
     "text": [
      "                                                                                "
     ]
    },
    {
     "name": "stdout",
     "output_type": "stream",
     "text": [
      "+---------------+--------------------+------+--------------------+-------------+-------------+\n",
      "|             ip|           timestamp|method|                 url|response_code|response_size|\n",
      "+---------------+--------------------+------+--------------------+-------------+-------------+\n",
      "|    62.133.45.2|2025-04-03T15:23:...|   PUT|                main|          500|         2154|\n",
      "|173.214.210.237|2025-03-10T03:06:...|DELETE|           tags/tags|          500|          492|\n",
      "| 113.51.202.172|2025-02-21T14:35:...|   PUT| categories/tag/blog|          301|         5748|\n",
      "|   54.64.188.71|2025-02-23T20:54:...|   PUT|     main/categories|          500|         6459|\n",
      "| 41.119.224.255|2025-01-21T17:14:...|   PUT|                tags|          301|         7371|\n",
      "|  76.254.10.215|2025-01-18T04:50:...|   GET|                 app|          404|         1959|\n",
      "|169.107.219.131|2025-02-18T22:34:...|  POST|category/categori...|          200|         4121|\n",
      "|117.172.129.199|2025-02-20T07:37:...|  POST|              search|          404|         6065|\n",
      "|210.149.207.232|2025-04-11T06:23:...|DELETE|                tags|          301|         1031|\n",
      "|214.151.141.145|2025-04-28T02:57:...|  POST|           main/tags|          301|         8389|\n",
      "|  99.23.241.253|2025-03-15T01:09:...|   GET| category/wp-content|          404|         8975|\n",
      "| 196.109.184.77|2025-01-10T10:08:...|   GET|        explore/list|          200|         2989|\n",
      "|  84.174.235.69|2025-05-08T10:51:...|   GET|   tags/tag/category|          200|         6993|\n",
      "|  10.44.121.217|2025-04-29T21:35:...|   PUT|        category/tag|          500|         6973|\n",
      "| 145.182.231.76|2025-01-11T06:19:...|DELETE|wp-content/wp-con...|          500|         9550|\n",
      "|   28.145.6.199|2025-05-15T00:45:...|DELETE|  main/blog/category|          301|         8168|\n",
      "|  149.66.83.197|2025-01-02T07:29:...|   GET|           posts/tag|          500|         7370|\n",
      "|  20.212.255.53|2025-01-15T01:20:...|   GET|        explore/main|          404|         8664|\n",
      "| 96.215.235.140|2025-02-28T22:04:...|  POST|                 tag|          200|         8947|\n",
      "|   93.137.58.40|2025-01-28T18:43:...|  POST|     tags/wp-content|          500|         5810|\n",
      "+---------------+--------------------+------+--------------------+-------------+-------------+\n",
      "only showing top 20 rows\n",
      "\n",
      "root\n",
      " |-- ip: string (nullable = true)\n",
      " |-- timestamp: string (nullable = true)\n",
      " |-- method: string (nullable = true)\n",
      " |-- url: string (nullable = true)\n",
      " |-- response_code: integer (nullable = true)\n",
      " |-- response_size: integer (nullable = true)\n",
      "\n"
     ]
    }
   ],
   "source": [
    "df.show()\n",
    "df.printSchema()"
   ]
  },
  {
   "cell_type": "code",
   "execution_count": 40,
   "id": "08b718b0-31cf-47cb-8e62-ea491e6cb016",
   "metadata": {},
   "outputs": [
    {
     "data": {
      "text/plain": [
       "DataFrame[ip: string, timestamp: string, method: string, url: string, response_code: int, response_size: int]"
      ]
     },
     "execution_count": 40,
     "metadata": {},
     "output_type": "execute_result"
    }
   ],
   "source": [
    "# Кэшируем DataFrame, так как он будет использоваться несколько раз\n",
    "df.cache()"
   ]
  },
  {
   "cell_type": "code",
   "execution_count": 41,
   "id": "2124066e-a503-490b-a05e-fa12cd4a7a5e",
   "metadata": {},
   "outputs": [
    {
     "name": "stdout",
     "output_type": "stream",
     "text": [
      "Пример загруженных данных:\n"
     ]
    },
    {
     "name": "stderr",
     "output_type": "stream",
     "text": [
      "[Stage 1:>                                                          (0 + 2) / 2]"
     ]
    },
    {
     "name": "stdout",
     "output_type": "stream",
     "text": [
      "+---------------+--------------------------+------+-------------------+-------------+-------------+\n",
      "|ip             |timestamp                 |method|url                |response_code|response_size|\n",
      "+---------------+--------------------------+------+-------------------+-------------+-------------+\n",
      "|62.133.45.2    |2025-04-03T15:23:46.899331|PUT   |main               |500          |2154         |\n",
      "|173.214.210.237|2025-03-10T03:06:57.220068|DELETE|tags/tags          |500          |492          |\n",
      "|113.51.202.172 |2025-02-21T14:35:11.105501|PUT   |categories/tag/blog|301          |5748         |\n",
      "|54.64.188.71   |2025-02-23T20:54:39.036629|PUT   |main/categories    |500          |6459         |\n",
      "|41.119.224.255 |2025-01-21T17:14:47.670850|PUT   |tags               |301          |7371         |\n",
      "+---------------+--------------------------+------+-------------------+-------------+-------------+\n",
      "only showing top 5 rows\n",
      "\n"
     ]
    },
    {
     "name": "stderr",
     "output_type": "stream",
     "text": [
      "                                                                                "
     ]
    }
   ],
   "source": [
    "# Показываем пример данных для проверки загрузки\n",
    "print(\"Пример загруженных данных:\")\n",
    "df.show(5, truncate=False)"
   ]
  },
  {
   "cell_type": "code",
   "execution_count": 42,
   "id": "2e83d7bb-170a-464f-b1f8-fd99d0dd12e1",
   "metadata": {},
   "outputs": [],
   "source": [
    "# 3. Задачи анализа"
   ]
  },
  {
   "cell_type": "code",
   "execution_count": 43,
   "id": "cd221d2c-4752-41cd-a2a0-67e265be2719",
   "metadata": {},
   "outputs": [],
   "source": [
    "# Задача 1: Топ-10 активных IP-адресов\n",
    "#Группируем данные по IP и подсчитываем количество запросов для каждого IP. Отображаем 10 наиболее активных IP."
   ]
  },
  {
   "cell_type": "code",
   "execution_count": 45,
   "id": "d3815e59-0a97-48a2-b1dd-4b7abd13808a",
   "metadata": {},
   "outputs": [
    {
     "name": "stdout",
     "output_type": "stream",
     "text": [
      "Топ-10 активных IP-адресов:\n"
     ]
    },
    {
     "name": "stderr",
     "output_type": "stream",
     "text": [
      "[Stage 3:>                                                          (0 + 2) / 2]"
     ]
    },
    {
     "name": "stdout",
     "output_type": "stream",
     "text": [
      "+---------------+-------------+\n",
      "|ip             |request_count|\n",
      "+---------------+-------------+\n",
      "|144.233.244.70 |2            |\n",
      "|167.97.66.152  |1            |\n",
      "|205.35.92.97   |1            |\n",
      "|211.104.48.9   |1            |\n",
      "|37.163.161.154 |1            |\n",
      "|182.92.119.187 |1            |\n",
      "|195.225.213.82 |1            |\n",
      "|136.70.10.229  |1            |\n",
      "|217.215.88.189 |1            |\n",
      "|198.178.100.135|1            |\n",
      "+---------------+-------------+\n",
      "\n"
     ]
    },
    {
     "name": "stderr",
     "output_type": "stream",
     "text": [
      "                                                                                "
     ]
    }
   ],
   "source": [
    "print(\"Топ-10 активных IP-адресов:\")\n",
    "top_ips = df.groupBy(\"ip\").agg(count(\"*\").alias(\"request_count\")).orderBy(desc(\"request_count\")).limit(10)\n",
    "top_ips.show(truncate=False)"
   ]
  },
  {
   "cell_type": "code",
   "execution_count": null,
   "id": "d990f228-f839-42a0-9008-5e482c0c9ba9",
   "metadata": {},
   "outputs": [],
   "source": [
    "# Задача 2: Количество запросов по HTTP-методам\n",
    "# Группируем данные по HTTP-методу и подсчитываем количество запросов для каждого метода."
   ]
  },
  {
   "cell_type": "code",
   "execution_count": 46,
   "id": "57eecc0e-6262-4a91-803a-01c141507cfd",
   "metadata": {},
   "outputs": [
    {
     "name": "stdout",
     "output_type": "stream",
     "text": [
      "Количество запросов по HTTP-методам:\n",
      "+------+------------+\n",
      "|method|method_count|\n",
      "+------+------------+\n",
      "|DELETE|25292       |\n",
      "|POST  |25102       |\n",
      "|PUT   |24805       |\n",
      "|GET   |24801       |\n",
      "+------+------------+\n",
      "\n"
     ]
    }
   ],
   "source": [
    "print(\"Количество запросов по HTTP-методам:\")\n",
    "\n",
    "method_counts = df.groupBy(\"method\").agg(count(\"*\").alias(\"method_count\")).orderBy(desc(\"method_count\"))\n",
    "# Отсортировано по количеству для типичного анализа\\n\",\n",
    "\n",
    "method_counts.show(truncate=False)\n"
   ]
  },
  {
   "cell_type": "code",
   "execution_count": 47,
   "id": "eb4a8f06-2ccd-41fa-b549-19a778c96552",
   "metadata": {},
   "outputs": [],
   "source": [
    "# Задача 3: Количество ответов с кодом 404\n",
    "# Фильтруем и подсчитываем количество запросов с кодом ответа 404."
   ]
  },
  {
   "cell_type": "code",
   "execution_count": 48,
   "id": "787413d7-1cbb-42d9-bc61-4ea3d05c3f44",
   "metadata": {},
   "outputs": [
    {
     "name": "stdout",
     "output_type": "stream",
     "text": [
      "\n",
      "Количество ответов с кодом 404: 25069\n"
     ]
    }
   ],
   "source": [
    "count_404 = df.filter(col(\"response_code\") == 404).count()\n",
    "print(f\"\\nКоличество ответов с кодом 404: {count_404}\")"
   ]
  },
  {
   "cell_type": "code",
   "execution_count": 49,
   "id": "7f5803c2-669a-4fa6-80b2-1f614c4f32e2",
   "metadata": {},
   "outputs": [],
   "source": [
    "# Задача 4: Общий размер ответов по дням\n",
    "#Группируем данные по дате и суммируем размеры ответов для каждого дня. Сортируем по дате."
   ]
  },
  {
   "cell_type": "code",
   "execution_count": 51,
   "id": "72515456-a42b-4df2-ba45-77453d583433",
   "metadata": {},
   "outputs": [
    {
     "name": "stdout",
     "output_type": "stream",
     "text": [
      "\n",
      "Общий размер ответов по дням:\n",
      "+----------+-------------------+\n",
      "|date      |total_response_size|\n",
      "+----------+-------------------+\n",
      "|2025-01-01|3606675            |\n",
      "|2025-01-02|3597901            |\n",
      "|2025-01-03|3651909            |\n",
      "|2025-01-04|3863015            |\n",
      "|2025-01-05|3528132            |\n",
      "|2025-01-06|4041495            |\n",
      "|2025-01-07|3845266            |\n",
      "|2025-01-08|3776612            |\n",
      "|2025-01-09|3495800            |\n",
      "|2025-01-10|3674878            |\n",
      "|2025-01-11|3829383            |\n",
      "|2025-01-12|3573539            |\n",
      "|2025-01-13|3763178            |\n",
      "|2025-01-14|3959373            |\n",
      "|2025-01-15|3648677            |\n",
      "|2025-01-16|3728369            |\n",
      "|2025-01-17|3421429            |\n",
      "|2025-01-18|3700340            |\n",
      "|2025-01-19|3844888            |\n",
      "|2025-01-20|3751651            |\n",
      "+----------+-------------------+\n",
      "only showing top 20 rows\n",
      "\n"
     ]
    }
   ],
   "source": [
    "print(\"\\nОбщий размер ответов по дням:\")\n",
    "\n",
    "# Преобразуем строку временной метки в дату.\n",
    "# Временная метка от Faker имеет формат ISO, например, 'YYYY-MM-DDTHH:MM:SS' или 'YYYY-MM-DDTHH:MM:SS.ffffff'\n",
    "# to_date() корректно извлекает часть с датой.\n",
    "df_with_date = df.withColumn(\"date\", to_date(col(\"timestamp\")))\n",
    "daily_response_size = df_with_date.groupBy(\"date\").agg(sum(\"response_size\").alias(\"total_response_size\")).orderBy(\"date\")\n",
    "\n",
    "# Показываем результаты. show(truncate=False) по умолчанию отобразит до 20 строк.\n",
    "# На изображении-примере было 17 строк; это совпадет, если уникальных дат <=20\n",
    "# или если первые 17 показанных дат совпадают с примером.\n",
    "daily_response_size.show(20, truncate=False)"
   ]
  },
  {
   "cell_type": "code",
   "execution_count": 52,
   "id": "75d6f4a5-5950-4ce4-82a9-d87c64ce5b23",
   "metadata": {},
   "outputs": [],
   "source": [
    "# 4. Остановка SparkSession\n",
    "#Останавливаем SparkSession для освобождения ресурсов"
   ]
  },
  {
   "cell_type": "code",
   "execution_count": 54,
   "id": "4517b23c-fcf6-4892-b263-c5211eb8e3c7",
   "metadata": {},
   "outputs": [],
   "source": [
    "spark.stop()"
   ]
  },
  {
   "cell_type": "code",
   "execution_count": null,
   "id": "3d24aa2f-f468-4285-96b7-f4103fa819b2",
   "metadata": {},
   "outputs": [],
   "source": []
  }
 ],
 "metadata": {
  "kernelspec": {
   "display_name": "Python 3 (ipykernel)",
   "language": "python",
   "name": "python3"
  },
  "language_info": {
   "codemirror_mode": {
    "name": "ipython",
    "version": 3
   },
   "file_extension": ".py",
   "mimetype": "text/x-python",
   "name": "python",
   "nbconvert_exporter": "python",
   "pygments_lexer": "ipython3",
   "version": "3.10.12"
  }
 },
 "nbformat": 4,
 "nbformat_minor": 5
}
